{
 "cells": [
  {
   "cell_type": "code",
   "execution_count": 1,
   "id": "42bb3b29",
   "metadata": {},
   "outputs": [
    {
     "name": "stdout",
     "output_type": "stream",
     "text": [
      "📉 MSE (Regresi): 5.5725\n",
      "➡️  Contoh prediksi harga Close besok: [241.05250501 241.7203737  243.39692643 242.07796198 241.66480354]\n",
      "\n",
      "✅ Akurasi (Klasifikasi): 0.4330\n",
      "\n",
      "📋 Laporan Klasifikasi:\n",
      "               precision    recall  f1-score   support\n",
      "\n",
      "           0       0.43      1.00      0.60        42\n",
      "           1       0.00      0.00      0.00        55\n",
      "\n",
      "    accuracy                           0.43        97\n",
      "   macro avg       0.22      0.50      0.30        97\n",
      "weighted avg       0.19      0.43      0.26        97\n",
      "\n"
     ]
    },
    {
     "name": "stderr",
     "output_type": "stream",
     "text": [
      "D:\\Anaconda 3\\Lib\\site-packages\\sklearn\\metrics\\_classification.py:1469: UndefinedMetricWarning: Precision and F-score are ill-defined and being set to 0.0 in labels with no predicted samples. Use `zero_division` parameter to control this behavior.\n",
      "  _warn_prf(average, modifier, msg_start, len(result))\n",
      "D:\\Anaconda 3\\Lib\\site-packages\\sklearn\\metrics\\_classification.py:1469: UndefinedMetricWarning: Precision and F-score are ill-defined and being set to 0.0 in labels with no predicted samples. Use `zero_division` parameter to control this behavior.\n",
      "  _warn_prf(average, modifier, msg_start, len(result))\n",
      "D:\\Anaconda 3\\Lib\\site-packages\\sklearn\\metrics\\_classification.py:1469: UndefinedMetricWarning: Precision and F-score are ill-defined and being set to 0.0 in labels with no predicted samples. Use `zero_division` parameter to control this behavior.\n",
      "  _warn_prf(average, modifier, msg_start, len(result))\n"
     ]
    }
   ],
   "source": [
    "import pandas as pd\n",
    "from sklearn.model_selection import train_test_split\n",
    "from sklearn.linear_model import LinearRegression\n",
    "from sklearn.ensemble import RandomForestClassifier\n",
    "from sklearn.metrics import mean_squared_error, accuracy_score, classification_report\n",
    "\n",
    "# Load dataset hasil Day 6\n",
    "df = pd.read_csv(\"../data/gld_features.csv\", index_col='Date', parse_dates=True)\n",
    "\n",
    "# === Fitur & Target untuk Regresi ===\n",
    "features = ['Open', 'High', 'Low', 'Close', 'Volume',\n",
    "            'MA5', 'MA10', 'MA20', 'RSI', 'MACD', 'Signal', 'Return', 'Volatility']\n",
    "\n",
    "X = df[features]\n",
    "y_reg = df['Target_Close']       # Target regresi\n",
    "y_cls = df['Target_UpDown']      # Target klasifikasi\n",
    "\n",
    "# === Split train/test (80/20) ===\n",
    "X_train, X_test, y_reg_train, y_reg_test = train_test_split(X, y_reg, test_size=0.2, shuffle=False)\n",
    "_, _, y_cls_train, y_cls_test = train_test_split(X, y_cls, test_size=0.2, shuffle=False)\n",
    "\n",
    "# === Model Regresi ===\n",
    "reg_model = LinearRegression()\n",
    "reg_model.fit(X_train, y_reg_train)\n",
    "y_reg_pred = reg_model.predict(X_test)\n",
    "mse = mean_squared_error(y_reg_test, y_reg_pred)\n",
    "\n",
    "print(f\"📉 MSE (Regresi): {mse:.4f}\")\n",
    "print(f\"➡️  Contoh prediksi harga Close besok: {y_reg_pred[-5:]}\")\n",
    "\n",
    "# === Model Klasifikasi ===\n",
    "cls_model = RandomForestClassifier(random_state=42)\n",
    "cls_model.fit(X_train, y_cls_train)\n",
    "y_cls_pred = cls_model.predict(X_test)\n",
    "\n",
    "acc = accuracy_score(y_cls_test, y_cls_pred)\n",
    "print(f\"\\n✅ Akurasi (Klasifikasi): {acc:.4f}\")\n",
    "print(\"\\n📋 Laporan Klasifikasi:\\n\", classification_report(y_cls_test, y_cls_pred))\n"
   ]
  }
 ],
 "metadata": {
  "kernelspec": {
   "display_name": "Python 3 (ipykernel)",
   "language": "python",
   "name": "python3"
  },
  "language_info": {
   "codemirror_mode": {
    "name": "ipython",
    "version": 3
   },
   "file_extension": ".py",
   "mimetype": "text/x-python",
   "name": "python",
   "nbconvert_exporter": "python",
   "pygments_lexer": "ipython3",
   "version": "3.11.5"
  }
 },
 "nbformat": 4,
 "nbformat_minor": 5
}
