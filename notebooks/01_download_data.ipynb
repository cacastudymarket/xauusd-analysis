{
 "cells": [
  {
   "cell_type": "code",
   "execution_count": 10,
   "id": "e97d6fdb",
   "metadata": {},
   "outputs": [
    {
     "name": "stderr",
     "output_type": "stream",
     "text": [
      "C:\\Users\\cahya ratri lukita p\\AppData\\Local\\Temp\\ipykernel_12068\\3174093025.py:5: FutureWarning: YF.download() has changed argument auto_adjust default to True\n",
      "  df = yf.download(\"GLD\", start=\"2023-01-01\", end=\"2025-01-01\", interval=\"1d\")\n",
      "[*********************100%***********************]  1 of 1 completed\n"
     ]
    }
   ],
   "source": [
    "import yfinance as yf\n",
    "import pandas as pd\n",
    "\n",
    "# Ambil data emas melalui ETF GLD\n",
    "df = yf.download(\"GLD\", start=\"2023-01-01\", end=\"2025-01-01\", interval=\"1d\")\n",
    "\n",
    "# Simpan ke file\n",
    "df.to_csv(\"../data/gld_clean.csv\")  \n"
   ]
  },
  {
   "cell_type": "code",
   "execution_count": 11,
   "id": "a0cbbd48",
   "metadata": {},
   "outputs": [
    {
     "data": {
      "text/html": [
       "<div>\n",
       "<style scoped>\n",
       "    .dataframe tbody tr th:only-of-type {\n",
       "        vertical-align: middle;\n",
       "    }\n",
       "\n",
       "    .dataframe tbody tr th {\n",
       "        vertical-align: top;\n",
       "    }\n",
       "\n",
       "    .dataframe thead tr th {\n",
       "        text-align: left;\n",
       "    }\n",
       "\n",
       "    .dataframe thead tr:last-of-type th {\n",
       "        text-align: right;\n",
       "    }\n",
       "</style>\n",
       "<table border=\"1\" class=\"dataframe\">\n",
       "  <thead>\n",
       "    <tr>\n",
       "      <th>Price</th>\n",
       "      <th>Close</th>\n",
       "      <th>High</th>\n",
       "      <th>Low</th>\n",
       "      <th>Open</th>\n",
       "      <th>Volume</th>\n",
       "    </tr>\n",
       "    <tr>\n",
       "      <th>Ticker</th>\n",
       "      <th>GLD</th>\n",
       "      <th>GLD</th>\n",
       "      <th>GLD</th>\n",
       "      <th>GLD</th>\n",
       "      <th>GLD</th>\n",
       "    </tr>\n",
       "    <tr>\n",
       "      <th>Date</th>\n",
       "      <th></th>\n",
       "      <th></th>\n",
       "      <th></th>\n",
       "      <th></th>\n",
       "      <th></th>\n",
       "    </tr>\n",
       "  </thead>\n",
       "  <tbody>\n",
       "    <tr>\n",
       "      <th>2023-01-03</th>\n",
       "      <td>171.059998</td>\n",
       "      <td>172.089996</td>\n",
       "      <td>170.020004</td>\n",
       "      <td>171.320007</td>\n",
       "      <td>7992900</td>\n",
       "    </tr>\n",
       "    <tr>\n",
       "      <th>2023-01-04</th>\n",
       "      <td>172.669998</td>\n",
       "      <td>173.089996</td>\n",
       "      <td>171.850006</td>\n",
       "      <td>172.860001</td>\n",
       "      <td>7574600</td>\n",
       "    </tr>\n",
       "    <tr>\n",
       "      <th>2023-01-05</th>\n",
       "      <td>170.520004</td>\n",
       "      <td>171.000000</td>\n",
       "      <td>169.789993</td>\n",
       "      <td>170.820007</td>\n",
       "      <td>4692600</td>\n",
       "    </tr>\n",
       "    <tr>\n",
       "      <th>2023-01-06</th>\n",
       "      <td>173.710007</td>\n",
       "      <td>173.960007</td>\n",
       "      <td>171.229996</td>\n",
       "      <td>171.759995</td>\n",
       "      <td>7889000</td>\n",
       "    </tr>\n",
       "    <tr>\n",
       "      <th>2023-01-09</th>\n",
       "      <td>174.100006</td>\n",
       "      <td>175.039993</td>\n",
       "      <td>173.880005</td>\n",
       "      <td>174.509995</td>\n",
       "      <td>5134500</td>\n",
       "    </tr>\n",
       "  </tbody>\n",
       "</table>\n",
       "</div>"
      ],
      "text/plain": [
       "Price            Close        High         Low        Open   Volume\n",
       "Ticker             GLD         GLD         GLD         GLD      GLD\n",
       "Date                                                               \n",
       "2023-01-03  171.059998  172.089996  170.020004  171.320007  7992900\n",
       "2023-01-04  172.669998  173.089996  171.850006  172.860001  7574600\n",
       "2023-01-05  170.520004  171.000000  169.789993  170.820007  4692600\n",
       "2023-01-06  173.710007  173.960007  171.229996  171.759995  7889000\n",
       "2023-01-09  174.100006  175.039993  173.880005  174.509995  5134500"
      ]
     },
     "execution_count": 11,
     "metadata": {},
     "output_type": "execute_result"
    }
   ],
   "source": [
    "df.head()\n"
   ]
  }
 ],
 "metadata": {
  "kernelspec": {
   "display_name": "Python 3 (ipykernel)",
   "language": "python",
   "name": "python3"
  },
  "language_info": {
   "codemirror_mode": {
    "name": "ipython",
    "version": 3
   },
   "file_extension": ".py",
   "mimetype": "text/x-python",
   "name": "python",
   "nbconvert_exporter": "python",
   "pygments_lexer": "ipython3",
   "version": "3.11.5"
  }
 },
 "nbformat": 4,
 "nbformat_minor": 5
}
