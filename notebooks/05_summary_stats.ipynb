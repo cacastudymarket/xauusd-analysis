{
 "cells": [
  {
   "cell_type": "code",
   "execution_count": 1,
   "id": "2392a3f9",
   "metadata": {},
   "outputs": [
    {
     "name": "stdout",
     "output_type": "stream",
     "text": [
      "📊 Statistik Return dan Volatilitas:\n",
      "         Return  Volatility\n",
      "count  501.000     482.000\n",
      "mean     0.073       0.869\n",
      "std      0.896       0.233\n",
      "min     -3.568       0.429\n",
      "25%     -0.459       0.693\n",
      "50%      0.061       0.856\n",
      "75%      0.602       1.048\n",
      "max      3.215       1.427\n",
      "\n",
      "🚀 Hari Return Tertinggi: 2023-10-13 (3.21%)\n",
      "📉 Hari Return Terendah: 2024-06-07 (-3.57%)\n",
      "\n",
      "🔗 Korelasi antar fitur:\n",
      "             Return  Volatility   RSI  MACD  Signal\n",
      "Return        1.00       -0.02  0.23  0.03   -0.04\n",
      "Volatility   -0.02        1.00  0.07  0.18    0.23\n",
      "RSI           0.23        0.07  1.00  0.72    0.50\n",
      "MACD          0.03        0.18  0.72  1.00    0.94\n",
      "Signal       -0.04        0.23  0.50  0.94    1.00\n"
     ]
    }
   ],
   "source": [
    "import pandas as pd\n",
    "\n",
    "# Load data berisi indikator dan return\n",
    "df = pd.read_csv(\"../data/gld_clean.csv\", skiprows=2)\n",
    "df.columns = ['Date', 'Close', 'High', 'Low', 'Open', 'Volume']\n",
    "df['Date'] = pd.to_datetime(df['Date'])\n",
    "df.set_index('Date', inplace=True)\n",
    "df = df[['Open', 'High', 'Low', 'Close', 'Volume']]\n",
    "\n",
    "# Hitung indikator tambahan\n",
    "df['Return'] = df['Close'].pct_change() * 100\n",
    "df['Volatility'] = df['Return'].rolling(window=20).std()\n",
    "df['RSI'] = 100 - (100 / (1 + df['Close'].diff().apply(lambda x: x if x > 0 else 0).rolling(14).mean() /\n",
    "                         -df['Close'].diff().apply(lambda x: x if x < 0 else 0).rolling(14).mean()))\n",
    "ema_12 = df['Close'].ewm(span=12, adjust=False).mean()\n",
    "ema_26 = df['Close'].ewm(span=26, adjust=False).mean()\n",
    "df['MACD'] = ema_12 - ema_26\n",
    "df['Signal'] = df['MACD'].ewm(span=9, adjust=False).mean()\n",
    "\n",
    "# === Statistik Deskriptif Return & Volatility ===\n",
    "summary = df[['Return', 'Volatility']].describe().round(3)\n",
    "print(\"📊 Statistik Return dan Volatilitas:\\n\", summary)\n",
    "\n",
    "# === Hari Return Tertinggi & Terendah ===\n",
    "top_gain = df['Return'].idxmax()\n",
    "top_loss = df['Return'].idxmin()\n",
    "\n",
    "print(f\"\\n🚀 Hari Return Tertinggi: {top_gain.date()} ({df.loc[top_gain, 'Return']:.2f}%)\")\n",
    "print(f\"📉 Hari Return Terendah: {top_loss.date()} ({df.loc[top_loss, 'Return']:.2f}%)\")\n",
    "\n",
    "# === Korelasi Antar Indikator ===\n",
    "correlation = df[['Return', 'Volatility', 'RSI', 'MACD', 'Signal']].corr().round(2)\n",
    "print(\"\\n🔗 Korelasi antar fitur:\\n\", correlation)\n"
   ]
  }
 ],
 "metadata": {
  "kernelspec": {
   "display_name": "Python 3 (ipykernel)",
   "language": "python",
   "name": "python3"
  },
  "language_info": {
   "codemirror_mode": {
    "name": "ipython",
    "version": 3
   },
   "file_extension": ".py",
   "mimetype": "text/x-python",
   "name": "python",
   "nbconvert_exporter": "python",
   "pygments_lexer": "ipython3",
   "version": "3.11.5"
  }
 },
 "nbformat": 4,
 "nbformat_minor": 5
}
