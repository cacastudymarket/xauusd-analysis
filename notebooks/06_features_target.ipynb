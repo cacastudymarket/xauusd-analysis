{
 "cells": [
  {
   "cell_type": "code",
   "execution_count": 1,
   "id": "1b729cd9",
   "metadata": {},
   "outputs": [
    {
     "name": "stdout",
     "output_type": "stream",
     "text": [
      "                  Open        High         Low       Close   Volume    Return  \\\n",
      "Date                                                                            \n",
      "2024-12-23  241.600006  241.669998  240.649994  240.960007  5835500 -0.470880   \n",
      "2024-12-24  241.490005  241.660004  240.820007  241.440002  2421000  0.199201   \n",
      "2024-12-26  242.389999  243.559998  242.199997  243.070007  4645100  0.675118   \n",
      "2024-12-27  241.199997  241.949997  241.050003  241.399994  4728100 -0.687050   \n",
      "2024-12-30  241.080002  241.080002  239.580002  240.630005  3522500 -0.318968   \n",
      "\n",
      "            Volatility         MA5        MA10        MA20        RSI  \\\n",
      "Date                                                                    \n",
      "2024-12-23    1.113767  241.172003  244.186002  243.979000  44.601999   \n",
      "2024-12-24    0.997480  240.672003  243.471002  243.927000  44.073412   \n",
      "2024-12-26    0.962296  241.434006  242.682002  243.933001  50.387895   \n",
      "2024-12-27    0.887302  241.794003  242.094002  243.828500  47.294940   \n",
      "2024-12-30    0.821096  241.500003  241.728003  243.580501  41.244010   \n",
      "\n",
      "                MACD    Signal  Target_Close  Target_UpDown  \n",
      "Date                                                         \n",
      "2024-12-23 -0.992493 -0.503103    241.440002              1  \n",
      "2024-12-24 -1.046837 -0.611850    243.070007              1  \n",
      "2024-12-26 -0.947455 -0.678971    241.399994              0  \n",
      "2024-12-27 -0.992015 -0.741580    240.630005              0  \n",
      "2024-12-30 -1.077046 -0.808673    242.130005              1  \n"
     ]
    }
   ],
   "source": [
    "import pandas as pd\n",
    "\n",
    "# Load data GLD\n",
    "df = pd.read_csv(\"../data/gld_clean.csv\", skiprows=2)\n",
    "df.columns = ['Date', 'Close', 'High', 'Low', 'Open', 'Volume']\n",
    "df['Date'] = pd.to_datetime(df['Date'])\n",
    "df.set_index('Date', inplace=True)\n",
    "df = df[['Open', 'High', 'Low', 'Close', 'Volume']]\n",
    "\n",
    "# === Buat fitur tambahan ===\n",
    "df['Return'] = df['Close'].pct_change() * 100\n",
    "df['Volatility'] = df['Return'].rolling(10).std()\n",
    "df['MA5'] = df['Close'].rolling(window=5).mean()\n",
    "df['MA10'] = df['Close'].rolling(window=10).mean()\n",
    "df['MA20'] = df['Close'].rolling(window=20).mean()\n",
    "\n",
    "# RSI\n",
    "delta = df['Close'].diff()\n",
    "gain = delta.clip(lower=0)\n",
    "loss = -delta.clip(upper=0)\n",
    "avg_gain = gain.rolling(14).mean()\n",
    "avg_loss = loss.rolling(14).mean()\n",
    "rs = avg_gain / avg_loss\n",
    "df['RSI'] = 100 - (100 / (1 + rs))\n",
    "\n",
    "# MACD\n",
    "ema_12 = df['Close'].ewm(span=12, adjust=False).mean()\n",
    "ema_26 = df['Close'].ewm(span=26, adjust=False).mean()\n",
    "df['MACD'] = ema_12 - ema_26\n",
    "df['Signal'] = df['MACD'].ewm(span=9, adjust=False).mean()\n",
    "\n",
    "# === Buat Target ===\n",
    "# Untuk regresi: harga Close hari besok\n",
    "df['Target_Close'] = df['Close'].shift(-1)\n",
    "\n",
    "# Untuk klasifikasi: apakah besok harga naik?\n",
    "df['Target_UpDown'] = (df['Target_Close'] > df['Close']).astype(int)\n",
    "\n",
    "# Drop baris NaN\n",
    "df.dropna(inplace=True)\n",
    "\n",
    "# Simpan ke file baru\n",
    "df.to_csv(\"../data/gld_features.csv\")\n",
    "\n",
    "# Cek hasil\n",
    "print(df.tail())\n"
   ]
  }
 ],
 "metadata": {
  "kernelspec": {
   "display_name": "Python 3 (ipykernel)",
   "language": "python",
   "name": "python3"
  },
  "language_info": {
   "codemirror_mode": {
    "name": "ipython",
    "version": 3
   },
   "file_extension": ".py",
   "mimetype": "text/x-python",
   "name": "python",
   "nbconvert_exporter": "python",
   "pygments_lexer": "ipython3",
   "version": "3.11.5"
  }
 },
 "nbformat": 4,
 "nbformat_minor": 5
}
