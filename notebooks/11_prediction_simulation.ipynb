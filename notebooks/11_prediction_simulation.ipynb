{
 "cells": [
  {
   "cell_type": "code",
   "execution_count": 2,
   "id": "345bf3fb",
   "metadata": {},
   "outputs": [],
   "source": [
    "import pandas as pd\n",
    "from sklearn.ensemble import RandomForestClassifier, RandomForestRegressor\n",
    "\n",
    "# Load data\n",
    "df = pd.read_csv(\"../data/gld_features.csv\", index_col='Date', parse_dates=True)\n",
    "\n",
    "# Definisikan ulang fitur\n",
    "features = ['Open', 'High', 'Low', 'Close', 'Volume',\n",
    "            'MA5', 'MA10', 'MA20', 'RSI', 'MACD', 'Signal', 'Return', 'Volatility']\n",
    "\n",
    "# Target\n",
    "X = df[features]\n",
    "y_class = df['Target_UpDown']\n",
    "y_reg = df['Close'].shift(-1).dropna()\n",
    "X_reg = X.iloc[:-1]  # drop baris terakhir\n",
    "y_reg = y_reg  # sudah disesuaikan\n"
   ]
  },
  {
   "cell_type": "code",
   "execution_count": 3,
   "id": "29b86d8e",
   "metadata": {},
   "outputs": [
    {
     "data": {
      "text/html": [
       "<style>#sk-container-id-1 {color: black;}#sk-container-id-1 pre{padding: 0;}#sk-container-id-1 div.sk-toggleable {background-color: white;}#sk-container-id-1 label.sk-toggleable__label {cursor: pointer;display: block;width: 100%;margin-bottom: 0;padding: 0.3em;box-sizing: border-box;text-align: center;}#sk-container-id-1 label.sk-toggleable__label-arrow:before {content: \"▸\";float: left;margin-right: 0.25em;color: #696969;}#sk-container-id-1 label.sk-toggleable__label-arrow:hover:before {color: black;}#sk-container-id-1 div.sk-estimator:hover label.sk-toggleable__label-arrow:before {color: black;}#sk-container-id-1 div.sk-toggleable__content {max-height: 0;max-width: 0;overflow: hidden;text-align: left;background-color: #f0f8ff;}#sk-container-id-1 div.sk-toggleable__content pre {margin: 0.2em;color: black;border-radius: 0.25em;background-color: #f0f8ff;}#sk-container-id-1 input.sk-toggleable__control:checked~div.sk-toggleable__content {max-height: 200px;max-width: 100%;overflow: auto;}#sk-container-id-1 input.sk-toggleable__control:checked~label.sk-toggleable__label-arrow:before {content: \"▾\";}#sk-container-id-1 div.sk-estimator input.sk-toggleable__control:checked~label.sk-toggleable__label {background-color: #d4ebff;}#sk-container-id-1 div.sk-label input.sk-toggleable__control:checked~label.sk-toggleable__label {background-color: #d4ebff;}#sk-container-id-1 input.sk-hidden--visually {border: 0;clip: rect(1px 1px 1px 1px);clip: rect(1px, 1px, 1px, 1px);height: 1px;margin: -1px;overflow: hidden;padding: 0;position: absolute;width: 1px;}#sk-container-id-1 div.sk-estimator {font-family: monospace;background-color: #f0f8ff;border: 1px dotted black;border-radius: 0.25em;box-sizing: border-box;margin-bottom: 0.5em;}#sk-container-id-1 div.sk-estimator:hover {background-color: #d4ebff;}#sk-container-id-1 div.sk-parallel-item::after {content: \"\";width: 100%;border-bottom: 1px solid gray;flex-grow: 1;}#sk-container-id-1 div.sk-label:hover label.sk-toggleable__label {background-color: #d4ebff;}#sk-container-id-1 div.sk-serial::before {content: \"\";position: absolute;border-left: 1px solid gray;box-sizing: border-box;top: 0;bottom: 0;left: 50%;z-index: 0;}#sk-container-id-1 div.sk-serial {display: flex;flex-direction: column;align-items: center;background-color: white;padding-right: 0.2em;padding-left: 0.2em;position: relative;}#sk-container-id-1 div.sk-item {position: relative;z-index: 1;}#sk-container-id-1 div.sk-parallel {display: flex;align-items: stretch;justify-content: center;background-color: white;position: relative;}#sk-container-id-1 div.sk-item::before, #sk-container-id-1 div.sk-parallel-item::before {content: \"\";position: absolute;border-left: 1px solid gray;box-sizing: border-box;top: 0;bottom: 0;left: 50%;z-index: -1;}#sk-container-id-1 div.sk-parallel-item {display: flex;flex-direction: column;z-index: 1;position: relative;background-color: white;}#sk-container-id-1 div.sk-parallel-item:first-child::after {align-self: flex-end;width: 50%;}#sk-container-id-1 div.sk-parallel-item:last-child::after {align-self: flex-start;width: 50%;}#sk-container-id-1 div.sk-parallel-item:only-child::after {width: 0;}#sk-container-id-1 div.sk-dashed-wrapped {border: 1px dashed gray;margin: 0 0.4em 0.5em 0.4em;box-sizing: border-box;padding-bottom: 0.4em;background-color: white;}#sk-container-id-1 div.sk-label label {font-family: monospace;font-weight: bold;display: inline-block;line-height: 1.2em;}#sk-container-id-1 div.sk-label-container {text-align: center;}#sk-container-id-1 div.sk-container {/* jupyter's `normalize.less` sets `[hidden] { display: none; }` but bootstrap.min.css set `[hidden] { display: none !important; }` so we also need the `!important` here to be able to override the default hidden behavior on the sphinx rendered scikit-learn.org. See: https://github.com/scikit-learn/scikit-learn/issues/21755 */display: inline-block !important;position: relative;}#sk-container-id-1 div.sk-text-repr-fallback {display: none;}</style><div id=\"sk-container-id-1\" class=\"sk-top-container\"><div class=\"sk-text-repr-fallback\"><pre>RandomForestRegressor(max_depth=6, n_estimators=200, random_state=42)</pre><b>In a Jupyter environment, please rerun this cell to show the HTML representation or trust the notebook. <br />On GitHub, the HTML representation is unable to render, please try loading this page with nbviewer.org.</b></div><div class=\"sk-container\" hidden><div class=\"sk-item\"><div class=\"sk-estimator sk-toggleable\"><input class=\"sk-toggleable__control sk-hidden--visually\" id=\"sk-estimator-id-1\" type=\"checkbox\" checked><label for=\"sk-estimator-id-1\" class=\"sk-toggleable__label sk-toggleable__label-arrow\">RandomForestRegressor</label><div class=\"sk-toggleable__content\"><pre>RandomForestRegressor(max_depth=6, n_estimators=200, random_state=42)</pre></div></div></div></div></div>"
      ],
      "text/plain": [
       "RandomForestRegressor(max_depth=6, n_estimators=200, random_state=42)"
      ]
     },
     "execution_count": 3,
     "metadata": {},
     "output_type": "execute_result"
    }
   ],
   "source": [
    "# Model klasifikasi\n",
    "clf_model = RandomForestClassifier(n_estimators=200, max_depth=6, random_state=42)\n",
    "clf_model.fit(X, y_class)\n",
    "\n",
    "# Model regresi\n",
    "reg_model = RandomForestRegressor(n_estimators=200, max_depth=6, random_state=42)\n",
    "reg_model.fit(X_reg, y_reg)\n"
   ]
  },
  {
   "cell_type": "code",
   "execution_count": 4,
   "id": "53fc9eee",
   "metadata": {},
   "outputs": [
    {
     "name": "stdout",
     "output_type": "stream",
     "text": [
      "📈 Prediksi Harga Close Besok: $241.67\n",
      "📊 Prediksi Arah Harga Besok: BUY (Naik)\n"
     ]
    }
   ],
   "source": [
    "# Ambil baris terakhir\n",
    "X_future = df[features].tail(1)\n",
    "\n",
    "# Prediksi harga Close besok\n",
    "predicted_close = reg_model.predict(X_future)\n",
    "print(f\"📈 Prediksi Harga Close Besok: ${predicted_close[0]:.2f}\")\n",
    "\n",
    "# Prediksi arah naik/turun\n",
    "predicted_direction = clf_model.predict(X_future)\n",
    "label = \"BUY (Naik)\" if predicted_direction[0] == 1 else \"SELL (Turun)\"\n",
    "print(f\"📊 Prediksi Arah Harga Besok: {label}\")\n"
   ]
  },
  {
   "cell_type": "code",
   "execution_count": 5,
   "id": "3681a6c7",
   "metadata": {},
   "outputs": [
    {
     "name": "stdout",
     "output_type": "stream",
     "text": [
      "💰 Hasil Simulasi Trading BUY/SELL:\n",
      "📌 Modal awal      : $10,000.00\n",
      "📈 Nilai akhir     : $11,258.26\n",
      "🧾 Total Profit    : $1,258.26\n",
      "📊 Total Transaksi : 121 kali\n"
     ]
    }
   ],
   "source": [
    "# Pastikan kolom sinyal tersedia\n",
    "df[\"Signal_UpDown\"] = df[\"Target_UpDown\"].map({1: \"BUY\", 0: \"SELL\"})\n",
    "\n",
    "# Parameter simulasi\n",
    "initial_cash = 10000\n",
    "cash = initial_cash\n",
    "position = 0\n",
    "entry_price = 0\n",
    "returns = []\n",
    "\n",
    "# Loop dari hari ke-2 (karena sinyal ada di hari sebelumnya)\n",
    "for i in range(1, len(df)):\n",
    "    signal = df.iloc[i-1][\"Signal_UpDown\"]\n",
    "    price_today = df.iloc[i][\"Close\"]\n",
    "\n",
    "    # Beli jika sinyal BUY dan belum punya posisi\n",
    "    if signal == \"BUY\" and position == 0:\n",
    "        position = cash / price_today\n",
    "        entry_price = price_today\n",
    "        cash = 0\n",
    "\n",
    "    # Jual jika sinyal SELL dan sedang pegang posisi\n",
    "    elif signal == \"SELL\" and position > 0:\n",
    "        cash = position * price_today\n",
    "        profit = cash - initial_cash\n",
    "        returns.append(profit)\n",
    "        position = 0\n",
    "\n",
    "# Hitung nilai akhir (kalau masih pegang emas)\n",
    "final_cash = cash if position == 0 else position * df.iloc[-1][\"Close\"]\n",
    "total_profit = final_cash - initial_cash\n",
    "\n",
    "print(\"💰 Hasil Simulasi Trading BUY/SELL:\")\n",
    "print(f\"📌 Modal awal      : ${initial_cash:,.2f}\")\n",
    "print(f\"📈 Nilai akhir     : ${final_cash:,.2f}\")\n",
    "print(f\"🧾 Total Profit    : ${total_profit:,.2f}\")\n",
    "print(f\"📊 Total Transaksi : {len(returns)} kali\")\n"
   ]
  }
 ],
 "metadata": {
  "kernelspec": {
   "display_name": "Python 3 (ipykernel)",
   "language": "python",
   "name": "python3"
  },
  "language_info": {
   "codemirror_mode": {
    "name": "ipython",
    "version": 3
   },
   "file_extension": ".py",
   "mimetype": "text/x-python",
   "name": "python",
   "nbconvert_exporter": "python",
   "pygments_lexer": "ipython3",
   "version": "3.11.5"
  }
 },
 "nbformat": 4,
 "nbformat_minor": 5
}
